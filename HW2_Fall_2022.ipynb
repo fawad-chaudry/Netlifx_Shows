{
  "nbformat": 4,
  "nbformat_minor": 0,
  "metadata": {
    "colab": {
      "provenance": [],
      "collapsed_sections": []
    },
    "kernelspec": {
      "name": "python3",
      "display_name": "Python 3"
    },
    "language_info": {
      "name": "python"
    }
  },
  "cells": [
    {
      "cell_type": "markdown",
      "source": [
        "# Assignment 2\n",
        "\n",
        "* due Monday, October 17, 10am, before the class; \n",
        "* 20 points;\n",
        "* only electronic submissions (IPYNB file) will be accepted;\n",
        "* no late submissions are allowed; \n",
        "* this is an individual assignment; \n",
        "* the submitted file should be named YourLastName_HW2.ipynb;\n",
        "* do not forget to upload all the necessary libraries; \n",
        "* before the submission, restart the notebook to make sure that everything runs as intended. "
      ],
      "metadata": {
        "id": "e1ZDfAYA_Cgo"
      }
    },
    {
      "cell_type": "markdown",
      "source": [
        "# Problem Statement: \n",
        "\n",
        "For this problem, you will work with the data set about the NetFlix shows that you can download from Kaggle: https://www.kaggle.com/shivamb/netflix-shows?select=netflix_titles.csv\n",
        "\n",
        "1.\t(1 point) Create a dataframe (`df`) containing the NetFlix `csv` file. As in Assignment 1, you can either post this data set online (for example, on your GitHub account), or upload it locally. In the latter case, submit this data set together with the notebook. \n",
        "2.\t(4 points) Output the size of the df dataframe. Update the df dataframe by keeping in it only the information about those shows that were released in *XXI* century (including 2000) and that have a rating of *PG-13*, *PG*, *G* and *R*. In the rest of the assignment, you will work with this reduced dataframe (unless specified otherwise). Output the size of the reduced dataframe. \n",
        "3.\t(5 points) Output the visualization of the distribution of NetFlix movies across years. Use text cell(s) to answer the following questions: \n",
        "\n",
        "> > What visualization tool do you consider optimal in this case? Why?\n",
        "\n",
        "> > Try different year grouping sizes. What groupings (groupings’ size) you considered optimal in this case? Why?\n",
        "\n",
        "> >\tWhat use of color (if any) do you consider optimal in this case? Why?\n",
        "\n",
        "4. (3 points) Output the visualization of the overall amount of *G*, *PG-13*, *PG*, *R* movies released by NetFlix in the XXI century.  Use text cell(s) to answer the following questions: \n",
        "\n",
        "> >\tWhat visualization tool do you consider optimal? Why?\n",
        "\n",
        "> >\tWhat use of color (if any) do you consider optimal in this case?\n",
        "\n",
        "5.\t(7 points) Study the group bar charts option in either seaborn (https://seaborn.pydata.org/examples/grouped_barplot.html) or matplotlib (https://matplotlib.org/stable/gallery/lines_bars_and_markers/barchart.html). Choose a sequence of five years (2017 though 2021). For every year out of this five-year sequence output grouped bar charts corresponding to the number if *G*, *PG-13*, *PG*, *R* movies released that year. Use text cell(s) to answer the following questions: \n",
        "\n",
        "> >\tWhat use of color (if any) do you consider optimal in this case?\n"
      ],
      "metadata": {
        "id": "r8aVodTt-9Q5"
      }
    },
    {
      "cell_type": "code",
      "execution_count": null,
      "metadata": {
        "id": "xKWt_6K4-8SH"
      },
      "outputs": [],
      "source": []
    }
  ]
}